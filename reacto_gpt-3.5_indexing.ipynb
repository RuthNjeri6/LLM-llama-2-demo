{
 "cells": [
  {
   "cell_type": "code",
   "execution_count": 7,
   "id": "afd30204",
   "metadata": {
    "scrolled": false
   },
   "outputs": [
    {
     "name": "stdout",
     "output_type": "stream",
     "text": [
      "\r\n",
      "\u001b[1m[\u001b[0m\u001b[34;49mnotice\u001b[0m\u001b[1;39;49m]\u001b[0m\u001b[39;49m A new release of pip is available: \u001b[0m\u001b[31;49m23.0.1\u001b[0m\u001b[39;49m -> \u001b[0m\u001b[32;49m23.2.1\u001b[0m\r\n",
      "\u001b[1m[\u001b[0m\u001b[34;49mnotice\u001b[0m\u001b[1;39;49m]\u001b[0m\u001b[39;49m To update, run: \u001b[0m\u001b[32;49mpip install --upgrade pip\u001b[0m\r\n"
     ]
    }
   ],
   "source": [
    "!pip -q install langchain==0.0.173 openai tiktoken chromadb==0.3.23 pycryptodome"
   ]
  },
  {
   "cell_type": "code",
   "execution_count": 8,
   "id": "160cb306",
   "metadata": {
    "scrolled": false
   },
   "outputs": [],
   "source": [
    "!pip -q show langchain"
   ]
  },
  {
   "cell_type": "code",
   "execution_count": 9,
   "id": "9d657706",
   "metadata": {},
   "outputs": [],
   "source": [
    "import os\n",
    "\n",
    "os.environ[\"OPENAI_API_KEY\"] = \"<your_api_key_here\""
   ]
  },
  {
   "cell_type": "code",
   "execution_count": 10,
   "id": "943e462b",
   "metadata": {},
   "outputs": [],
   "source": [
    "from langchain.vectorstores import Chroma\n",
    "from langchain.embeddings import OpenAIEmbeddings\n",
    "from langchain.text_splitter import RecursiveCharacterTextSplitter\n",
    "from langchain.llms import OpenAI\n",
    "from langchain.chains import RetrievalQA\n",
    "from langchain.document_loaders import PyPDFLoader\n",
    "from langchain.document_loaders import DirectoryLoader\n",
    "from langchain.document_loaders import JSONLoader\n",
    "from pprint import pprint"
   ]
  },
  {
   "cell_type": "code",
   "execution_count": 11,
   "id": "443d2e7f",
   "metadata": {},
   "outputs": [
    {
     "name": "stderr",
     "output_type": "stream",
     "text": [
      "100%|█████████████████████████████████████████████████████████████████████████████████████████████████████████████████████████████████████████████████████████████████████| 134/134 [00:30<00:00,  4.33it/s]\n"
     ]
    }
   ],
   "source": [
    "# Load and process the files\n",
    "\n",
    "loader = DirectoryLoader('./documents', glob=\"./*.pdf\", loader_cls=PyPDFLoader, show_progress=True, use_multithreading=True)\n",
    "#loader = DirectoryLoader('./json_data', glob=\"./*.json\", loader_cls=JSONLoader, loader_kwargs = {'jq_schema':'.pages[]'}, show_progress=True, use_multithreading=True)\n",
    "\n",
    "documents = loader.load()"
   ]
  },
  {
   "cell_type": "code",
   "execution_count": 6,
   "id": "443413ba",
   "metadata": {},
   "outputs": [],
   "source": [
    "#splitting the text into\n",
    "text_splitter = RecursiveCharacterTextSplitter(chunk_size=1000, chunk_overlap=200)\n",
    "texts = text_splitter.split_documents(documents)"
   ]
  },
  {
   "cell_type": "code",
   "execution_count": 7,
   "id": "bdcacf43",
   "metadata": {},
   "outputs": [
    {
     "data": {
      "text/plain": [
       "6657"
      ]
     },
     "execution_count": 7,
     "metadata": {},
     "output_type": "execute_result"
    }
   ],
   "source": [
    "len(texts)"
   ]
  },
  {
   "cell_type": "code",
   "execution_count": 8,
   "id": "c4a5c8d7",
   "metadata": {},
   "outputs": [
    {
     "data": {
      "text/plain": [
       "Document(page_content='CASE REPORT Open Access\\nManagement of imatinib-associated skin rash in a\\npatient with metastatic gastrointestinal stromal\\ntumor: a case report\\nJean-Yves Blay\\nAbstract\\nPurpose: Long-term continuous imatinib is recommended for adult patients with unresectable and/or metastatic\\nKIT+ gastrointestinal stromal tumors (GIST) as long as the patient continues to benefit. In the adjuvant setting,\\nrecent findings indicate that patients at considerable risk of recurrence should receive at least 3 years of imatinib.\\nBecause imatinib is often administered for prolonged periods, proper management of imatinib-associated adverse\\nevents is crucial.\\nCase report: We report a 56-year-old man with metastatic KIT+ GIST of the liver who had Grade 3 imatinib\\nintolerance (skin rash) when treatment was started. The rash was managed with antihistamine treatment\\n(Dexchlorpheniramine maleate 4 mg per day) and several temporary (up to 2 weeks) dose interruptions. The', metadata={'source': '/Users/ruthnjeri/work/Gates_Project/w3/first_80_papers/Management of imatinib-associated skin rash in a patient with metastatic gastrointestinal stromal tumor: a case report._39442.pdf', 'page': 0})"
      ]
     },
     "execution_count": 8,
     "metadata": {},
     "output_type": "execute_result"
    }
   ],
   "source": [
    "texts[0]"
   ]
  },
  {
   "cell_type": "code",
   "execution_count": 14,
   "id": "6e1d56ae",
   "metadata": {},
   "outputs": [],
   "source": [
    "# Supplying a persist_directory will store the embeddings on disk\n",
    "persist_directory = 'db'"
   ]
  },
  {
   "cell_type": "code",
   "execution_count": 12,
   "id": "e2338fc7",
   "metadata": {},
   "outputs": [],
   "source": [
    "## here we are using OpenAI embeddings but in future we will swap out to local embeddings\n",
    "embedding = OpenAIEmbeddings()"
   ]
  },
  {
   "cell_type": "code",
   "execution_count": 11,
   "id": "8bcb3167",
   "metadata": {},
   "outputs": [
    {
     "name": "stderr",
     "output_type": "stream",
     "text": [
      "Using embedded DuckDB with persistence: data will be stored in: db\n"
     ]
    }
   ],
   "source": [
    "# Embed and store the texts\n",
    "vectordb = Chroma.from_documents(documents=texts, \n",
    "                                 embedding=embedding,\n",
    "                                 persist_directory=persist_directory)"
   ]
  },
  {
   "cell_type": "code",
   "execution_count": 7,
   "id": "0ccbb2ef",
   "metadata": {},
   "outputs": [
    {
     "ename": "NameError",
     "evalue": "name 'vectordb' is not defined",
     "output_type": "error",
     "traceback": [
      "\u001b[0;31m---------------------------------------------------------------------------\u001b[0m",
      "\u001b[0;31mNameError\u001b[0m                                 Traceback (most recent call last)",
      "Cell \u001b[0;32mIn[7], line 2\u001b[0m\n\u001b[1;32m      1\u001b[0m \u001b[38;5;66;03m# persiste the db to disk\u001b[39;00m\n\u001b[0;32m----> 2\u001b[0m \u001b[43mvectordb\u001b[49m\u001b[38;5;241m.\u001b[39mpersist()\n\u001b[1;32m      3\u001b[0m vectordb \u001b[38;5;241m=\u001b[39m \u001b[38;5;28;01mNone\u001b[39;00m\n",
      "\u001b[0;31mNameError\u001b[0m: name 'vectordb' is not defined"
     ]
    }
   ],
   "source": [
    "# persiste the db to disk\n",
    "vectordb.persist()\n",
    "vectordb = None"
   ]
  },
  {
   "cell_type": "code",
   "execution_count": 15,
   "id": "b3e5753a",
   "metadata": {},
   "outputs": [
    {
     "name": "stderr",
     "output_type": "stream",
     "text": [
      "Using embedded DuckDB with persistence: data will be stored in: db\n"
     ]
    }
   ],
   "source": [
    "# Now we can load the persisted database from disk, and use it as normal. \n",
    "vectordb = Chroma(persist_directory=persist_directory, \n",
    "                  embedding_function=embedding)"
   ]
  },
  {
   "cell_type": "code",
   "execution_count": 16,
   "id": "b737edb4",
   "metadata": {},
   "outputs": [],
   "source": [
    "retriever = vectordb.as_retriever(search_kwargs={\"k\": 2})"
   ]
  },
  {
   "cell_type": "code",
   "execution_count": 17,
   "id": "e1a35df3",
   "metadata": {},
   "outputs": [
    {
     "data": {
      "text/plain": [
       "'similarity'"
      ]
     },
     "execution_count": 17,
     "metadata": {},
     "output_type": "execute_result"
    }
   ],
   "source": [
    "retriever.search_type"
   ]
  },
  {
   "cell_type": "code",
   "execution_count": 18,
   "id": "97f000ff",
   "metadata": {},
   "outputs": [],
   "source": [
    "# create the chain to answer questions \n",
    "qa_chain = RetrievalQA.from_chain_type(llm=OpenAI(), \n",
    "                                  chain_type=\"stuff\", \n",
    "                                  retriever=retriever, \n",
    "                                  return_source_documents=True)"
   ]
  },
  {
   "cell_type": "code",
   "execution_count": 45,
   "id": "78f1aad4",
   "metadata": {},
   "outputs": [],
   "source": [
    "## Cite sources\n",
    "def process_llm_response(res):\n",
    "    print(f\"\\n\\x1b[34mQuery:\\x1b[0m {res[1]}\")\n",
    "    print(f\"\\x1b[32mResponse:\\x1b[0m {res[0]['result']}\")\n",
    "    #print('\\nSources:')\n",
    "    #for source in res[0][\"source_documents\"]:\n",
    "        #print(source.metadata['source'])"
   ]
  },
  {
   "cell_type": "code",
   "execution_count": 20,
   "id": "6ed54b2d",
   "metadata": {},
   "outputs": [],
   "source": [
    "queries = [\n",
    "    \"What are the antivirals with longest half lives in humans and a dose less that 20mg per day?\",\n",
    "    \"What host factors are known to affect influenza replication in human cells and mice vivo?\",\n",
    "    \"What oral TB drug that has entered clinical trials have a half-life of > 100?\",\n",
    "    \"What are the known safety liabilities of teixobactin and are there other lipin II compounds with bettter safety?\",\n",
    "    \"What ReFrame compounds or mechanism of action can reduce the dose of approved TB therapies by lowering the dose by >5x of the approved TB drug\",\n",
    "    \n",
    "]\n",
    "follow_up = [\n",
    "    \"Are there other drugs or molecules that target the same biochemical pathways?\",\n",
    "    \"Are there any TB drugs that have significantly fewer or less severe side effects, yet maintain a similar efficacy?\",\n",
    "    \"Are there molecules with minimal interactions that might provide a synergistic effect whose effective dose is ≤50mg/ml?\",\n",
    "    \"How diverse are the populations in which these drugs have been studied?\",\n",
    "    \"How confident are the results for each drug's efficacy?\",\n",
    "    \"Which drugs have the fewest potential confounds?\"\n",
    "]"
   ]
  },
  {
   "cell_type": "code",
   "execution_count": 21,
   "id": "121f2c9f",
   "metadata": {},
   "outputs": [],
   "source": [
    "llm_response = []\n",
    "for query in queries:\n",
    "    response = qa_chain(query)\n",
    "    llm_response.append((response, query))\n",
    "    "
   ]
  },
  {
   "cell_type": "code",
   "execution_count": 42,
   "id": "4377acbf",
   "metadata": {},
   "outputs": [
    {
     "name": "stdout",
     "output_type": "stream",
     "text": [
      "\n",
      "\u001b[34mQuery:\u001b[0m What are the antivirals with longest half lives in humans and a dose less that 20mg per day?\n",
      "\u001b[32mResponse:\u001b[0m  I don't know.\n",
      "\n",
      "\u001b[34mQuery:\u001b[0m What host factors are known to affect influenza replication in human cells and mice vivo?\n",
      "\u001b[32mResponse:\u001b[0m  I don't know.\n",
      "\n",
      "\u001b[34mQuery:\u001b[0m What oral TB drug that has entered clinical trials have a half-life of > 100?\n",
      "\u001b[32mResponse:\u001b[0m  I don't know.\n",
      "\n",
      "\u001b[34mQuery:\u001b[0m What are the known safety liabilities of teixobactin and are there other lipin II compounds with bettter safety?\n",
      "\u001b[32mResponse:\u001b[0m  Lipoglycopeptides can cause hypersensitivity reactions, with cross-allergy possible with vancomycin. Telavancin (TD-6424) has been studied in a murine model of pneumonia and has been found to have multiple mechanisms of action. The safety profile of these drugs is generally comparable to their comparators, but their use should be considered with caution in patients with a history of allergy to vancomycin. There is limited safety data available on teixobactin, so it is not possible to say if there are other lipin II compounds with better safety.\n",
      "\n",
      "\u001b[34mQuery:\u001b[0m What ReFrame compounds or mechanism of action can reduce the dose of approved TB therapies by lowering the dose by >5x of the approved TB drug\n",
      "\u001b[32mResponse:\u001b[0m  I don't know.\n"
     ]
    },
    {
     "data": {
      "text/html": [
       "<b>Elapsed Time:</b> 0.00 seconds"
      ],
      "text/plain": [
       "<IPython.core.display.HTML object>"
      ]
     },
     "metadata": {},
     "output_type": "display_data"
    }
   ],
   "source": [
    "import time\n",
    "from IPython.display import display, HTML\n",
    "\n",
    "start_time = time.time()\n",
    "\n",
    "for res in llm_response:\n",
    "    process_llm_response(res)\n",
    "    \n",
    "end_time = time.time()\n",
    "elapsed_time = end_time - start_time\n",
    "    \n",
    "timer_html = f\"<b>Elapsed Time:</b> {elapsed_time:.2f} seconds\"\n",
    "display(HTML(timer_html))"
   ]
  },
  {
   "cell_type": "code",
   "execution_count": 48,
   "id": "b678913d",
   "metadata": {},
   "outputs": [
    {
     "name": "stdout",
     "output_type": "stream",
     "text": [
      "\n",
      "\u001b[34mQuery:\u001b[0m What oral TB drug that has entered clinical trials have a half-life of > 100?\n",
      "\u001b[32mResponse:\u001b[0m  I don't know.\n"
     ]
    },
    {
     "data": {
      "text/html": [
       "<b>Elapsed Time:</b> 4.53 seconds"
      ],
      "text/plain": [
       "<IPython.core.display.HTML object>"
      ]
     },
     "metadata": {},
     "output_type": "display_data"
    }
   ],
   "source": [
    "query = \"What oral TB drug that has entered clinical trials have a half-life of > 100?\"\n",
    "\n",
    "start_time = time.time()\n",
    "llm_response = qa_chain(query)\n",
    "process_llm_response((llm_response, query))\n",
    "\n",
    "end_time = time.time()\n",
    "elapsed_time = end_time - start_time\n",
    "    \n",
    "timer_html = f\"<b>Elapsed Time:</b> {elapsed_time:.2f} seconds\"\n",
    "display(HTML(timer_html))"
   ]
  },
  {
   "cell_type": "code",
   "execution_count": null,
   "id": "e17dab05",
   "metadata": {},
   "outputs": [],
   "source": []
  }
 ],
 "metadata": {
  "kernelspec": {
   "display_name": "Python 3 (ipykernel)",
   "language": "python",
   "name": "python3"
  },
  "language_info": {
   "codemirror_mode": {
    "name": "ipython",
    "version": 3
   },
   "file_extension": ".py",
   "mimetype": "text/x-python",
   "name": "python",
   "nbconvert_exporter": "python",
   "pygments_lexer": "ipython3",
   "version": "3.9.7"
  }
 },
 "nbformat": 4,
 "nbformat_minor": 5
}
